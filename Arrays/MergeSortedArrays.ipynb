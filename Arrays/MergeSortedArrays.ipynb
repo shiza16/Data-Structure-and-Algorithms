{
 "cells": [
  {
   "cell_type": "markdown",
   "metadata": {},
   "source": [
    "## Merging two sorted arrays"
   ]
  },
  {
   "cell_type": "code",
   "execution_count": 13,
   "metadata": {},
   "outputs": [],
   "source": [
    "def MergeSortArrays(a1,a2):\n",
    "    l1 = len(a1)\n",
    "    l2 = len(a2)\n",
    "    l3 = l1 + l2\n",
    "    a3 = []\n",
    "    i,j,k = 0,0,l3\n",
    "    if (l3 <= 0):\n",
    "        return -1\n",
    "    else:\n",
    "        while k > 0:\n",
    "            #print(\"ij: \",i , j)\n",
    "            if a1[i] <= a2[j]:\n",
    "                a3.append(a1[i])\n",
    "                #print(\"if 1 i < l1 <= \" ,i, j, l1, a3 , a1[i] , a2[j])\n",
    "                i += 1\n",
    "                \n",
    "                \n",
    "            elif a2[j] < a1[i]:\n",
    "                a3.append(a2[j])\n",
    "                #print(\"elif 2 j < l2 \" ,i , j, l2 ,a3 , a1[i] , a2[j])\n",
    "                if j < len(a2) -1:\n",
    "                    j += 1\n",
    "                   # print(j)\n",
    "                \n",
    "            k -= 1\n",
    "        return a3"
   ]
  },
  {
   "cell_type": "code",
   "execution_count": 14,
   "metadata": {},
   "outputs": [
    {
     "data": {
      "text/plain": [
       "[0, 1, 2, 3, 4, 5, 6, 7, 8, 8]"
      ]
     },
     "execution_count": 14,
     "metadata": {},
     "output_type": "execute_result"
    }
   ],
   "source": [
    "a1 = [1,3,5,7,9]\n",
    "a2 = [0,2,4,6,8]\n",
    "a3 = MergeSortArrays(a1,a2)\n",
    "a3"
   ]
  },
  {
   "cell_type": "code",
   "execution_count": null,
   "metadata": {},
   "outputs": [],
   "source": []
  },
  {
   "cell_type": "code",
   "execution_count": null,
   "metadata": {},
   "outputs": [],
   "source": []
  }
 ],
 "metadata": {
  "kernelspec": {
   "display_name": "Python 3",
   "language": "python",
   "name": "python3"
  },
  "language_info": {
   "codemirror_mode": {
    "name": "ipython",
    "version": 3
   },
   "file_extension": ".py",
   "mimetype": "text/x-python",
   "name": "python",
   "nbconvert_exporter": "python",
   "pygments_lexer": "ipython3",
   "version": "3.6.9"
  }
 },
 "nbformat": 4,
 "nbformat_minor": 2
}
