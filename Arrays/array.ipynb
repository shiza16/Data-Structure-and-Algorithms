{
 "cells": [
  {
   "cell_type": "markdown",
   "metadata": {},
   "source": [
    "# Implementing an array"
   ]
  },
  {
   "cell_type": "code",
   "execution_count": 59,
   "metadata": {},
   "outputs": [],
   "source": [
    "class Array():\n",
    "    def __init__(self):\n",
    "        \"\"\"\n",
    "            __init__ is known as a constructor in python object oriented concepts. This method is called\n",
    "            when an object is created from the class and it allows the class to initialize the attributes of a class\n",
    "        \"\"\"\n",
    "        self.length = 0\n",
    "        self.data = {}\n",
    "        \n",
    "    def insert(self , item): ##O(1)\n",
    "        self.data[self.length] = item\n",
    "        self.length += 1\n",
    "    \n",
    "    def delete(self , index): ##O(n)\n",
    "        ditem = self.data[index]\n",
    "        for i in range(index,self.length - 1):\n",
    "            self.data[index] = self.data[index + 1]  \n",
    "        del self.data[self.length - 1]\n",
    "        self.length -= 1\n",
    "        \n",
    "    def peek(self): ##O(1)\n",
    "        print( self.data[self.length-1] )\n",
    "    \n",
    "    def pop(self): ##O(1)\n",
    "        lstitem = self.data[self.length - 1]\n",
    "        del self.data[self.length-1]\n",
    "        self.length -= 1\n",
    "        \n",
    "    def print(self): ##O(n)\n",
    "        for i in range(0,self.length):\n",
    "            print(self.data[i] , end = ' ')\n",
    "            \n",
    "    def getitems(self , position): ##O(1)\n",
    "        if position > 0 and position < (self.length -1) :\n",
    "            print(\"value at position\" , position , \" is: \" , self.data[position])\n",
    "        else:\n",
    "            print(\"Index is out of bounds.\")\n",
    "            "
   ]
  },
  {
   "cell_type": "code",
   "execution_count": 60,
   "metadata": {},
   "outputs": [
    {
     "name": "stdout",
     "output_type": "stream",
     "text": [
      "hi! Shiza here from Pakistan "
     ]
    }
   ],
   "source": [
    "arr = Array()\n",
    "arr.insert(\"hi!\")\n",
    "arr.insert(\"Shiza\")\n",
    "arr.insert(\"here\")\n",
    "arr.insert(\"from\")\n",
    "arr.insert(\"Pakistan\")\n",
    "arr.print()"
   ]
  },
  {
   "cell_type": "code",
   "execution_count": 61,
   "metadata": {},
   "outputs": [
    {
     "name": "stdout",
     "output_type": "stream",
     "text": [
      "hi! Shiza here Pakistan "
     ]
    }
   ],
   "source": [
    "arr.delete(3)\n",
    "arr.print()"
   ]
  },
  {
   "cell_type": "code",
   "execution_count": 62,
   "metadata": {},
   "outputs": [
    {
     "name": "stdout",
     "output_type": "stream",
     "text": [
      "Pakistan\n"
     ]
    }
   ],
   "source": [
    "arr.peek()"
   ]
  },
  {
   "cell_type": "code",
   "execution_count": 63,
   "metadata": {},
   "outputs": [
    {
     "name": "stdout",
     "output_type": "stream",
     "text": [
      "hi! Shiza here "
     ]
    }
   ],
   "source": [
    "arr.pop()\n",
    "arr.print()"
   ]
  },
  {
   "cell_type": "code",
   "execution_count": 64,
   "metadata": {},
   "outputs": [
    {
     "name": "stdout",
     "output_type": "stream",
     "text": [
      "value at position 1  is:  Shiza\n"
     ]
    }
   ],
   "source": [
    "arr.getitems(1)"
   ]
  },
  {
   "cell_type": "code",
   "execution_count": null,
   "metadata": {},
   "outputs": [],
   "source": []
  }
 ],
 "metadata": {
  "kernelspec": {
   "display_name": "Python 3",
   "language": "python",
   "name": "python3"
  },
  "language_info": {
   "codemirror_mode": {
    "name": "ipython",
    "version": 3
   },
   "file_extension": ".py",
   "mimetype": "text/x-python",
   "name": "python",
   "nbconvert_exporter": "python",
   "pygments_lexer": "ipython3",
   "version": "3.6.9"
  }
 },
 "nbformat": 4,
 "nbformat_minor": 2
}
